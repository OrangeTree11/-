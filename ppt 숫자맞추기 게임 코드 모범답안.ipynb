{
 "cells": [
  {
   "cell_type": "code",
   "execution_count": 1,
   "metadata": {},
   "outputs": [
    {
     "name": "stdout",
     "output_type": "stream",
     "text": [
      "92\n",
      "숫자가 너무 작습니다\n",
      "숫자가 너무 작습니다\n",
      "숫자가 너무 큽니다\n",
      "숫자가 너무 큽니다\n",
      "정답입니다.\n"
     ]
    }
   ],
   "source": [
    "import random #파이썬의 랜덤 모듈을 사용할 때는 이렇게 가장 먼저 import random 선언해주기\n",
    "true_number = random.randint(1, 100)\n",
    "print(true_number)\n",
    "\n",
    "while True : #교수님 왈 사실 while True는 좋은 코드가 아니다.\n",
    "    num = int(input())\n",
    "    if num == true_number :\n",
    "        print(\"정답입니다.\")\n",
    "        break              #while 반복문이 무한루프의 오류에 빠지는 것을 막기 위해 정답인 조건을 충족시켰을 시에는 수행문 다음에 break를 선언해주는 게 좋다\n",
    "    elif num > true_number :\n",
    "        print(\"숫자가 너무 큽니다\")\n",
    "    else :\n",
    "        print(\"숫자가 너무 작습니다\")"
   ]
  },
  {
   "cell_type": "code",
   "execution_count": 24,
   "metadata": {},
   "outputs": [
    {
     "name": "stdout",
     "output_type": "stream",
     "text": [
      "구구단 몇 단을 계산할까요?\n",
      "구구단 0단을 계산합니다\n",
      "구구단 게임을 종료합니다\n"
     ]
    }
   ],
   "source": [
    "print(\"구구단 몇 단을 계산할까요?\")\n",
    "\n",
    "dan = int(input())\n",
    "\n",
    "print(f\"구구단 {dan}단을 계산합니다\")\n",
    "\n",
    "i = 1\n",
    "while dan != 0 and 0 < dan < 10 :\n",
    "    print(f\"{dan} x {i} = {dan * i}\")\n",
    "    i = i + 1\n",
    "    if i > 9 : break\n",
    "if dan == 0 :\n",
    "    print(\"구구단 게임을 종료합니다\")   \n",
    "elif not(0 < dan < 10) :       #이 부분을 elif가 아닌 if로 작성할 시, 위에 있는 if dan == 0이랑 연결된, 즉 if dan == 0 인 경우를 제외하고 \n",
    "                               #나머지 경우에서 dan <= 0 or dan => 10인 경우를 적용시키는 게 아니라 위에 있는 if 조건이랑 별개의 건으로 \n",
    "                               #컴퓨터가 받아들이기 때문에 input에 0을 넣게 되면 \"구구단 게임을 종료합니다\"만 출력되지 않고 \n",
    "                               #\"잘못 입력하셨습니다. ~~\"도 같이 출력되게 된다. 왜냐면 0도 not(0<dan<10)에 해당되긴 하니까\n",
    "                               #그러니까 이런 오류를 범하지 않으려면 elif로 작성해야 한다.\n",
    "    print(\"잘못 입력하셨습니다. 0과 10 사이의 정수를 입력해주세요\")\n",
    "\n"
   ]
  },
  {
   "cell_type": "code",
   "execution_count": 26,
   "metadata": {},
   "outputs": [
    {
     "ename": "IndexError",
     "evalue": "list assignment index out of range",
     "output_type": "error",
     "traceback": [
      "\u001b[1;31m---------------------------------------------------------------------------\u001b[0m",
      "\u001b[1;31mIndexError\u001b[0m                                Traceback (most recent call last)",
      "Cell \u001b[1;32mIn[26], line 9\u001b[0m\n\u001b[0;32m      7\u001b[0m \u001b[39mfor\u001b[39;00m i \u001b[39min\u001b[39;00m \u001b[39mrange\u001b[39m(\u001b[39m0\u001b[39m, \u001b[39m5\u001b[39m) :\n\u001b[0;32m      8\u001b[0m     avg_score \u001b[39m=\u001b[39m []\n\u001b[1;32m----> 9\u001b[0m     avg_score[i] \u001b[39m=\u001b[39m midterm_score[\u001b[39m0\u001b[39m][i] \u001b[39m+\u001b[39m midterm_score[\u001b[39m1\u001b[39m][i] \u001b[39m+\u001b[39m midterm_score[\u001b[39m2\u001b[39m][i] \u001b[39m/\u001b[39m \u001b[39m3\u001b[39m\n\u001b[0;32m     10\u001b[0m     i \u001b[39m+\u001b[39m\u001b[39m=\u001b[39m \u001b[39m1\u001b[39m\n\u001b[0;32m     11\u001b[0m     \u001b[39mprint\u001b[39m(avg_score)\n",
      "\u001b[1;31mIndexError\u001b[0m: list assignment index out of range"
     ]
    }
   ],
   "source": [
    "kor_score = [49, 79, 20, 100, 80]\n",
    "math_score = [43, 59, 85, 30, 90]\n",
    "eng_score = [49, 79, 48, 60, 100]\n",
    "\n",
    "midterm_score = [kor_score,math_score, eng_score]\n",
    "\n",
    "for i in range(0, 5) :\n",
    "    avg_score = []\n",
    "    avg_score[i] = midterm_score[0][i] + midterm_score[1][i] + midterm_score[2][i] / 3\n",
    "    i += 1\n",
    "    print(avg_score)"
   ]
  },
  {
   "cell_type": "code",
   "execution_count": 27,
   "metadata": {},
   "outputs": [
    {
     "ename": "IndexError",
     "evalue": "list assignment index out of range",
     "output_type": "error",
     "traceback": [
      "\u001b[1;31m---------------------------------------------------------------------------\u001b[0m",
      "\u001b[1;31mIndexError\u001b[0m                                Traceback (most recent call last)",
      "Cell \u001b[1;32mIn[27], line 9\u001b[0m\n\u001b[0;32m      7\u001b[0m \u001b[39mfor\u001b[39;00m i \u001b[39min\u001b[39;00m \u001b[39mrange\u001b[39m(\u001b[39m0\u001b[39m, \u001b[39m5\u001b[39m) :\n\u001b[0;32m      8\u001b[0m     avg_score \u001b[39m=\u001b[39m []\n\u001b[1;32m----> 9\u001b[0m     avg_score[i] \u001b[39m=\u001b[39m midterm_score[\u001b[39m0\u001b[39m][i] \u001b[39m+\u001b[39m midterm_score[\u001b[39m1\u001b[39m][i] \u001b[39m+\u001b[39m midterm_score[\u001b[39m2\u001b[39m][i] \u001b[39m/\u001b[39m \u001b[39m3\u001b[39m\n\u001b[0;32m     10\u001b[0m     i \u001b[39m+\u001b[39m\u001b[39m=\u001b[39m \u001b[39m1\u001b[39m\n\u001b[0;32m     11\u001b[0m     \u001b[39mif\u001b[39;00m i \u001b[39m>\u001b[39m \u001b[39m4\u001b[39m : \u001b[39mbreak\u001b[39;00m\n",
      "\u001b[1;31mIndexError\u001b[0m: list assignment index out of range"
     ]
    }
   ],
   "source": [
    "kor_score = [49, 79, 20, 100, 80]\n",
    "math_score = [43, 59, 85, 30, 90]\n",
    "eng_score = [49, 79, 48, 60, 100]\n",
    "\n",
    "midterm_score = [kor_score,math_score, eng_score]\n",
    "\n",
    "for i in range(0, 5) :\n",
    "    avg_score = []\n",
    "    avg_score[i] = midterm_score[0][i] + midterm_score[1][i] + midterm_score[2][i] / 3\n",
    "    i += 1\n",
    "    if i > 4 : break\n",
    "    print(avg_score)"
   ]
  },
  {
   "cell_type": "code",
   "execution_count": 31,
   "metadata": {},
   "outputs": [
    {
     "ename": "IndexError",
     "evalue": "list assignment index out of range",
     "output_type": "error",
     "traceback": [
      "\u001b[1;31m---------------------------------------------------------------------------\u001b[0m",
      "\u001b[1;31mIndexError\u001b[0m                                Traceback (most recent call last)",
      "Cell \u001b[1;32mIn[31], line 9\u001b[0m\n\u001b[0;32m      7\u001b[0m \u001b[39mfor\u001b[39;00m i \u001b[39min\u001b[39;00m \u001b[39mrange\u001b[39m(\u001b[39m0\u001b[39m, \u001b[39m3\u001b[39m) :\n\u001b[0;32m      8\u001b[0m     avg_score \u001b[39m=\u001b[39m []\n\u001b[1;32m----> 9\u001b[0m     avg_score[i] \u001b[39m=\u001b[39m (midterm_score[\u001b[39m0\u001b[39m][i] \u001b[39m+\u001b[39m midterm_score[\u001b[39m1\u001b[39m][i] \u001b[39m+\u001b[39m midterm_score[\u001b[39m2\u001b[39m][i]) \u001b[39m/\u001b[39m \u001b[39m3\u001b[39m\n\u001b[0;32m     10\u001b[0m     i \u001b[39m+\u001b[39m\u001b[39m=\u001b[39m \u001b[39m1\u001b[39m\n\u001b[0;32m     11\u001b[0m     \u001b[39mprint\u001b[39m(avg_score)\n",
      "\u001b[1;31mIndexError\u001b[0m: list assignment index out of range"
     ]
    }
   ],
   "source": [
    "kor_score = [49, 79, 20, 100, 80]\n",
    "math_score = [43, 59, 85, 30, 90]\n",
    "eng_score = [49, 79, 48, 60, 100]\n",
    "\n",
    "midterm_score = [kor_score,math_score, eng_score]\n",
    "\n",
    "for i in range(0, 3) :\n",
    "    avg_score = []\n",
    "    avg_score[i] = (midterm_score[0][i] + midterm_score[1][i] + midterm_score[2][i]) / 3\n",
    "    i += 1\n",
    "    print(avg_score)"
   ]
  },
  {
   "cell_type": "code",
   "execution_count": 104,
   "metadata": {},
   "outputs": [
    {
     "name": "stdout",
     "output_type": "stream",
     "text": [
      "[90.0]\n"
     ]
    }
   ],
   "source": [
    "kor_score = [49, 79, 20, 100, 80]\n",
    "math_score = [43, 59, 85, 30, 90]\n",
    "eng_score = [49, 79, 48, 60, 100]\n",
    "\n",
    "midterm_score = [kor_score,math_score, eng_score]\n",
    "\n",
    "def avg_score(midterm_score) :\n",
    "    i = 0\n",
    "    while i < 5 :       #while문이든 for문이든 파이썬 반복문 안에 있는 모든 코드들은 반복문이 돌아갈 때마다 계속해서 실행된다.\n",
    "        avg_score = []  #즉 이러한 반복문의 특성 때문에 avg_score = []코드도 반복문이 돌아갈 때마다 계속해서 같이 실행된다.\n",
    "                        #avg_score = []는 avg_score를 빈 배열로 정의하기 때문에 i= 0이 반복문을 통과한 뒤 i = 1이 반복문을 들어가게 되면 이전의 결과값인 [47.0]은 완전히 리셋되어 버린다.\n",
    "        avg_score.append((midterm_score[0][i] + midterm_score[1][i] + midterm_score[2][i]) / 3)  #그러다 보니 i = 1이 반복문을 통과할 때 [72.333333333]만 반환된다.\n",
    "        i += 1\n",
    "    return avg_score   #이러한 과정이 반복되다 보면 i = 4가 반복문을 통과할 때에는 [90.0]만 반환된다.\n",
    "print(avg_score(midterm_score))"
   ]
  },
  {
   "cell_type": "code",
   "execution_count": 24,
   "metadata": {},
   "outputs": [
    {
     "name": "stdout",
     "output_type": "stream",
     "text": [
      "[47.0, 72.33333333333333, 51.0, 63.333333333333336, 90.0]\n"
     ]
    }
   ],
   "source": [
    "kor_score = [49, 79, 20, 100, 80]\n",
    "math_score = [43, 59, 85, 30, 90]\n",
    "eng_score = [49, 79, 48, 60, 100]\n",
    "\n",
    "midterm_score = [kor_score,math_score, eng_score]\n",
    "\n",
    "\n",
    "def avg_score(midterm_score) :\n",
    "    avg_score = [] #avg_score = [] 코드를 while문 전에 작성하니 예상한 대로 원하던 결과값이 출력되었다. 이때 avg_score = []를 함수를 정의하는 영역 바깥에 작성하지 않도록 주의하자.\n",
    "    i = 0\n",
    "    while i < 5 :\n",
    "        avg_score.append((midterm_score[0][i] + midterm_score[1][i] + midterm_score[2][i]) / 3)\n",
    "        i += 1\n",
    "    answer = avg_score\n",
    "    return answer\n",
    "print(avg_score(midterm_score))"
   ]
  },
  {
   "cell_type": "code",
   "execution_count": 25,
   "metadata": {},
   "outputs": [
    {
     "name": "stdout",
     "output_type": "stream",
     "text": [
      "[47.0]\n",
      "[72.33333333333333]\n",
      "[51.0]\n",
      "[63.333333333333336]\n",
      "[90.0]\n"
     ]
    }
   ],
   "source": [
    "kor_score = [49, 79, 20, 100, 80]\n",
    "math_score = [43, 59, 85, 30, 90]\n",
    "eng_score = [49, 79, 48, 60, 100]\n",
    "\n",
    "midterm_score = [kor_score,math_score, eng_score]\n",
    "\n",
    "for i in range(0, 5) :\n",
    "        avg_score = []\n",
    "        avg_score.append((midterm_score[0][i] + midterm_score[1][i] + midterm_score[2][i]) / 3)\n",
    "        print(avg_score)   #조건을 만족하는 값을 반환하고 바로 끝내는 return이 아니라 print 함수를 반복문 안에 작성하니 매번 반복문이 실행될 때마다 나오는 결과값이 차례대로 화면에 찍힌다.\n",
    "                           #즉 이 코드 블럭의 출력값을 보면 반복문 안에 avg_score = [] 코드가 작성되면 값이 매번 리셋된다는 것을 눈으로 확인할 수 있다."
   ]
  },
  {
   "cell_type": "code",
   "execution_count": 26,
   "metadata": {},
   "outputs": [
    {
     "ename": "TypeError",
     "evalue": "list.append() takes exactly one argument (2 given)",
     "output_type": "error",
     "traceback": [
      "\u001b[1;31m---------------------------------------------------------------------------\u001b[0m",
      "\u001b[1;31mTypeError\u001b[0m                                 Traceback (most recent call last)",
      "Cell \u001b[1;32mIn[26], line 16\u001b[0m\n\u001b[0;32m     13\u001b[0m         i \u001b[39m+\u001b[39m\u001b[39m=\u001b[39m \u001b[39m1\u001b[39m\n\u001b[0;32m     14\u001b[0m     \u001b[39mreturn\u001b[39;00m avg_score\n\u001b[1;32m---> 16\u001b[0m \u001b[39mprint\u001b[39m(avg_score(midterm_score))\n",
      "Cell \u001b[1;32mIn[26], line 11\u001b[0m, in \u001b[0;36mavg_score\u001b[1;34m(midterm_score)\u001b[0m\n\u001b[0;32m      9\u001b[0m \u001b[39mwhile\u001b[39;00m i \u001b[39m<\u001b[39m \u001b[39m5\u001b[39m :\n\u001b[0;32m     10\u001b[0m     avg_score \u001b[39m=\u001b[39m []\n\u001b[1;32m---> 11\u001b[0m     avg_score\u001b[39m.\u001b[39;49mappend(i, (midterm_score[\u001b[39m0\u001b[39;49m][i] \u001b[39m+\u001b[39;49m midterm_score[\u001b[39m1\u001b[39;49m][i] \u001b[39m+\u001b[39;49m midterm_score[\u001b[39m2\u001b[39;49m][i]) \u001b[39m/\u001b[39;49m \u001b[39m3\u001b[39;49m) \u001b[39m#list.append() takes exactly one argument (2 given)\u001b[39;00m\n\u001b[0;32m     12\u001b[0m     \u001b[39m#윗줄같은 형식으로 쓰고 싶다면 append가 아닌 insert를 써야 함\u001b[39;00m\n\u001b[0;32m     13\u001b[0m     i \u001b[39m+\u001b[39m\u001b[39m=\u001b[39m \u001b[39m1\u001b[39m\n",
      "\u001b[1;31mTypeError\u001b[0m: list.append() takes exactly one argument (2 given)"
     ]
    }
   ],
   "source": [
    "kor_score = [49, 79, 20, 100, 80]\n",
    "math_score = [43, 59, 85, 30, 90]\n",
    "eng_score = [49, 79, 48, 60, 100]\n",
    "\n",
    "midterm_score = [kor_score,math_score, eng_score]\n",
    "\n",
    "def avg_score(midterm_score) :\n",
    "    i = 0\n",
    "    while i < 5 :\n",
    "        avg_score = []\n",
    "        avg_score.append(i, (midterm_score[0][i] + midterm_score[1][i] + midterm_score[2][i]) / 3) #list.append() takes exactly one argument (2 given)\n",
    "        #윗줄같은 형식으로 쓰고 싶다면 append가 아닌 insert를 써야 함\n",
    "        i += 1\n",
    "    return avg_score\n",
    "\n",
    "print(avg_score(midterm_score))"
   ]
  },
  {
   "cell_type": "code",
   "execution_count": null,
   "metadata": {},
   "outputs": [
    {
     "name": "stdout",
     "output_type": "stream",
     "text": [
      "1\n",
      "2\n",
      "4\n",
      "5\n",
      "7\n",
      "8\n",
      "10\n"
     ]
    }
   ],
   "source": [
    "#점프투파이썬 예제 : 1부터 10까지의 숫자 중 3의 배수 아닌 것만 출력되게 만들기 (정답)\n",
    "i = 0\n",
    "while i < 10 :\n",
    "    i += 1\n",
    "    if i % 3 == 0 : continue #이 조건을 print(i) 수행문보다 먼저 적어주는 것, 매우 중요하다.\n",
    "    print(i)"
   ]
  },
  {
   "cell_type": "code",
   "execution_count": null,
   "metadata": {},
   "outputs": [
    {
     "name": "stdout",
     "output_type": "stream",
     "text": [
      "1\n",
      "2\n",
      "3\n",
      "4\n",
      "5\n",
      "6\n",
      "7\n",
      "8\n",
      "9\n",
      "10\n"
     ]
    }
   ],
   "source": [
    "#점프투파이썬 예제 오답풀이\n",
    "i = 1\n",
    "while i <= 10 :\n",
    "    print(i)   #print(i) 함수를 i += 1 과 if i % 3 == 0 : continue 조건보다 먼저 적게 되면 일단 i % 3 == 0인지의 여부와\n",
    "               #관계없이 i가 while의 조건인 i <= 10을 만족하기만 하면 print(i)는 바로 실행이 되어버린다.\n",
    "    i += 1\n",
    "    if i % 3 == 0 : continue   #만약 이 위치에서 break를 썼다면, i = 2가 투입되는 순간 (화면에 2가 출력된 뒤) 바로 반복문은 종료되어 버린다."
   ]
  },
  {
   "cell_type": "code",
   "execution_count": null,
   "metadata": {},
   "outputs": [
    {
     "name": "stdout",
     "output_type": "stream",
     "text": [
      "0\n",
      "1\n",
      "2\n"
     ]
    }
   ],
   "source": [
    "i = 0\n",
    "while i < 10 :\n",
    "    print(i)\n",
    "    i += 1\n",
    "    if i % 3 == 0 : break   "
   ]
  },
  {
   "cell_type": "code",
   "execution_count": null,
   "metadata": {},
   "outputs": [
    {
     "name": "stdout",
     "output_type": "stream",
     "text": [
      "1\n",
      "2\n",
      "3\n",
      "4\n",
      "5\n",
      "6\n",
      "7\n",
      "8\n",
      "9\n",
      "10\n",
      "11\n",
      "12\n",
      "13\n",
      "14\n",
      "15\n",
      "16\n",
      "17\n",
      "18\n",
      "19\n",
      "20\n",
      "21\n",
      "22\n",
      "23\n",
      "24\n",
      "25\n",
      "26\n",
      "27\n",
      "28\n",
      "29\n",
      "30\n",
      "31\n",
      "32\n",
      "33\n",
      "34\n",
      "35\n",
      "36\n",
      "37\n",
      "38\n",
      "39\n",
      "40\n",
      "41\n",
      "42\n",
      "43\n",
      "44\n",
      "45\n",
      "46\n",
      "47\n",
      "48\n",
      "49\n",
      "50\n",
      "51\n",
      "52\n",
      "53\n",
      "54\n",
      "55\n",
      "56\n",
      "57\n",
      "58\n",
      "59\n",
      "60\n",
      "61\n",
      "62\n",
      "63\n",
      "64\n",
      "65\n",
      "66\n",
      "67\n",
      "68\n",
      "69\n",
      "70\n",
      "71\n",
      "72\n",
      "73\n",
      "74\n",
      "75\n",
      "76\n",
      "77\n",
      "78\n",
      "79\n",
      "80\n",
      "81\n",
      "82\n",
      "83\n",
      "84\n",
      "85\n",
      "86\n",
      "87\n",
      "88\n",
      "89\n",
      "90\n",
      "91\n",
      "92\n",
      "93\n",
      "94\n",
      "95\n",
      "96\n",
      "97\n",
      "98\n",
      "99\n",
      "100\n"
     ]
    },
    {
     "ename": "",
     "evalue": "",
     "output_type": "error",
     "traceback": [
      "\u001b[1;31m현재 셀 또는 이전 셀에서 코드를 실행하는 동안 Kernel이 충돌했습니다. 셀의 코드를 검토하여 오류의 가능한 원인을 식별하세요. 자세한 내용을 보려면 <a href='https://aka.ms/vscodeJupyterKernelCrash'> 여기 </a> 를 클릭하세요. 자세한 내용은 Jupyter <a href='command:jupyter.viewOutput'>로그</a>를 참조하세요."
     ]
    }
   ],
   "source": [
    "for i in range(1, 101) : #파이썬 반복문 안에 있는 모든 코드들은 반복문이 돌아갈 때마다 계속 실행되게 됨.\n",
    "    sum_list = []    #sum_list = []라고 작성하면 sum_list에 할당될 데이터를 리스트 타입으로 정의하는 효과도 있지만, 근본적인 의미는 sum_list가 빈 배열/리스트라는 뜻이다.\n",
    "                     #즉 첫번째 인수 1이 i에 할당된 후 반복문을 통과한 뒤, 다시 i = 2로 반복문이 실행되려는 순간 sum_list는 다시 빈 리스트로 리셋되는 것이다.\n",
    "    sum_list.append(i)   #그러다 보니 i=2가 반복문에 들어간 뒤 sum_list.append(i)를 수행하려고 하면 sum_list가 [1, 2]가 아니라 그냥 [2]가 되는 것이다.\n",
    "    print(sum(sum_list))\n",
    "    exit()"
   ]
  },
  {
   "cell_type": "code",
   "execution_count": null,
   "metadata": {},
   "outputs": [
    {
     "ename": "NameError",
     "evalue": "name 'python' is not defined",
     "output_type": "error",
     "traceback": [
      "\u001b[1;31m---------------------------------------------------------------------------\u001b[0m",
      "\u001b[1;31mNameError\u001b[0m                                 Traceback (most recent call last)",
      "Cell \u001b[1;32mIn[1], line 1\u001b[0m\n\u001b[1;32m----> 1\u001b[0m python\n",
      "\u001b[1;31mNameError\u001b[0m: name 'python' is not defined"
     ]
    }
   ],
   "source": [
    "python"
   ]
  },
  {
   "cell_type": "code",
   "execution_count": null,
   "metadata": {},
   "outputs": [
    {
     "name": "stdout",
     "output_type": "stream",
     "text": [
      "100\n"
     ]
    }
   ],
   "source": [
    "for i in range(0, 101) :\n",
    "    sum_list = []\n",
    "    sum_list.append(i)      \n",
    "print(sum(sum_list)) #이 경우에는 print함수가 for문 바깥에 있기 때문에 마지막으로 for반복문이 실행되어 수행문을 통과한 순간\n",
    "                     #그 순간의 값만 출력되게 된다. 그런데 위와 같은 로직으로 반복문이 실행되다 보면 이전의 값들이 다 리셋되어\n",
    "                     #마지막에 sum_list에 남는 건 [100]뿐이다. 그러다 보니 sum_list를 sum해도 100만 나오는 것이다."
   ]
  },
  {
   "cell_type": "code",
   "execution_count": null,
   "metadata": {},
   "outputs": [
    {
     "name": "stdout",
     "output_type": "stream",
     "text": [
      "5050\n"
     ]
    }
   ],
   "source": [
    "sum_list = []\n",
    "for i in range(1, 101):\n",
    "    sum_list.append(i)\n",
    "print(sum(sum_list))"
   ]
  },
  {
   "cell_type": "code",
   "execution_count": null,
   "metadata": {},
   "outputs": [
    {
     "name": "stdout",
     "output_type": "stream",
     "text": [
      "Hi Margot.  Please come to my party on Saturday!\n",
      "Hi Kathryn.  Please come to my party on Saturday!\n",
      "Hi Prisila.  Please come to my party on Saturday!\n"
     ]
    }
   ],
   "source": [
    "for friend in ['Margot', 'Kathryn', 'Prisila']:\n",
    "    invitation = \"Hi \" + friend + \".  Please come to my party on Saturday!\"\n",
    "    print(invitation)"
   ]
  }
 ],
 "metadata": {
  "kernelspec": {
   "display_name": "Python 3",
   "language": "python",
   "name": "python3"
  },
  "language_info": {
   "codemirror_mode": {
    "name": "ipython",
    "version": 3
   },
   "file_extension": ".py",
   "mimetype": "text/x-python",
   "name": "python",
   "nbconvert_exporter": "python",
   "pygments_lexer": "ipython3",
   "version": "3.10.9"
  },
  "orig_nbformat": 4,
  "vscode": {
   "interpreter": {
    "hash": "cc0664c8b8ade7fa128023369a1651bf171cc17546a72904dd40b9e9cf0f82c4"
   }
  }
 },
 "nbformat": 4,
 "nbformat_minor": 2
}
